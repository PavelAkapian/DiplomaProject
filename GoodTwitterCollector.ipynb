{
 "cells": [
  {
   "cell_type": "code",
   "execution_count": 52,
   "metadata": {
    "collapsed": false
   },
   "outputs": [],
   "source": [
    "\"\"\"\n",
    "Author: Pavel Akapian\n",
    "Email: pavel.akapian@gmail.com\n",
    "Download and store tweets in MongoDB.\n",
    "\"\"\"\n",
    "from __future__ import print_function\n",
    "import tweepy\n",
    "import json\n",
    "import datetime\n",
    "from pymongo import MongoClient\n",
    " \n",
    "class TweeMongoStreamListener(tweepy.StreamListener):\n",
    "    \"\"\"\n",
    "    FILL IN COMMENTS\n",
    "    \"\"\"\n",
    "    def __init__(self, end_time, collection_name,job_id,*args, **kwargs):\n",
    "        self.endTime = end_time\n",
    "        self.collectionName = collection_name\n",
    "        super(TweeMongoStreamListener,self).__init__(*args,**kwargs)\n",
    "     \n",
    "    def on_connect(self):\n",
    "        \"\"\"Called when the connection is made\"\"\"\n",
    "        print(\"You're connected to the streaming server.\")\n",
    "        \n",
    "    def on_error(self, status_code):\n",
    "        \"\"\"This is called when an error occurs\"\"\"\n",
    "        print('Error: ' + repr(status_code))\n",
    "        return False\n",
    " \n",
    "    def on_data(self, data):\n",
    "        \"\"\"This will be called each time we receive stream data\"\"\"\n",
    "        client = MongoClient('localhost', 27017)\n",
    "        #print(\"ON_DATA\\n\")\n",
    "        db = client.cooldb\n",
    "        datajson = json.loads(data)\n",
    "        db[self.collectionName].insert_one(datajson)\n",
    "        if datetime.datetime.utcnow() <=self.endTime:\n",
    "            return True\n",
    "        else:\n",
    "            print(\"FINISHED COLLECTIONING\")\n",
    "            return False"
   ]
  },
  {
   "cell_type": "code",
   "execution_count": 53,
   "metadata": {
    "collapsed": false,
    "scrolled": true
   },
   "outputs": [],
   "source": [
    "def RunTwee(job_id,collection_name,track_list,minutes):\n",
    "    CONSUMER_KEY = \"OVW5fOSDPKMwpER1EcN57rRyB\"\n",
    "    CONSUMER_SECRET = \"9UnSU3Ddj8Qqyjkws2L2LjD5vl2RoF7NvQsNSta6FvvL3lWbFU\"\n",
    "    ACCESS_TOKEN = \"1965185312-jr5HFuWJ5YPulWCipvTYou8TcopKSoYWNxZuQA7\"\n",
    "    ACCESS_TOKEN_SECRET = \"1prWACmbjcSNlOYMxkU31HX2debP0gER98Kw5Vqu49wfL\"\n",
    "\n",
    "\n",
    "    auth1 = tweepy.OAuthHandler(CONSUMER_KEY, CONSUMER_SECRET)\n",
    "    auth1.set_access_token(ACCESS_TOKEN, ACCESS_TOKEN_SECRET)\n",
    "\n",
    "    l = TweeMongoStreamListener(job_id = job_id,\n",
    "                                collection_name = collection_name,\n",
    "                                end_time=datetime.datetime.utcnow()+datetime.timedelta(seconds=60*minutes),\n",
    "                                api = tweepy.API(wait_on_rate_limit=True))\n",
    "    streamer = tweepy.Stream(auth=auth1, listener=l)\n",
    "    streamer.filter(track=track_list)"
   ]
  },
  {
   "cell_type": "code",
   "execution_count": 54,
   "metadata": {
    "collapsed": false
   },
   "outputs": [],
   "source": [
    "from pytz import utc\n",
    "\n",
    "from apscheduler.schedulers.background import BackgroundScheduler\n",
    "from apscheduler.jobstores.mongodb import MongoDBJobStore\n",
    "from apscheduler.executors.pool import ThreadPoolExecutor, ProcessPoolExecutor\n",
    "\n",
    "\n",
    "jobstores = {\n",
    "    'default': MongoDBJobStore()\n",
    "}\n",
    "executors = {\n",
    "    'default': ThreadPoolExecutor(20),\n",
    "    'processpool': ProcessPoolExecutor(5)\n",
    "}\n",
    "job_defaults = {\n",
    "    'coalesce': False,\n",
    "    'max_instances': 10\n",
    "}\n",
    "scheduler = BackgroundScheduler(jobstores=jobstores, executors=executors, job_defaults=job_defaults, timezone=utc)\n",
    "scheduler.start()"
   ]
  },
  {
   "cell_type": "code",
   "execution_count": 56,
   "metadata": {
    "collapsed": false
   },
   "outputs": [
    {
     "name": "stdout",
     "output_type": "stream",
     "text": [
      "You're connected to the streaming server.\n"
     ]
    }
   ],
   "source": [
    "scheduler.add_job(RunTwee,args=['ruby_job','CollRuby',[\"Ruby\"],5],replace_existing=True,trigger='date',\n",
    "                  run_date=datetime.datetime.utcnow()+datetime.timedelta(seconds=60),\n",
    "                  timezone= utc, id=\"ruby_job\")\n",
    "scheduler.add_job(RunTwee,args=['python_job','CollPython',[\"Python\"],10],replace_existing=True,trigger='date',\n",
    "                  run_date=datetime.datetime.utcnow()+datetime.timedelta(seconds=10),\n",
    "                  timezone= utc, id=\"python_job\")"
   ]
  },
  {
   "cell_type": "code",
   "execution_count": null,
   "metadata": {
    "collapsed": true
   },
   "outputs": [],
   "source": []
  }
 ],
 "metadata": {
  "kernelspec": {
   "display_name": "Python 2",
   "language": "python",
   "name": "python2"
  },
  "language_info": {
   "codemirror_mode": {
    "name": "ipython",
    "version": 2
   },
   "file_extension": ".py",
   "mimetype": "text/x-python",
   "name": "python",
   "nbconvert_exporter": "python",
   "pygments_lexer": "ipython2",
   "version": "2.7.11"
  }
 },
 "nbformat": 4,
 "nbformat_minor": 0
}
